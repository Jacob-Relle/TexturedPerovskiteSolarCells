{
 "cells": [
  {
   "cell_type": "markdown",
   "metadata": {},
   "source": [
    "## Imports"
   ]
  },
  {
   "cell_type": "code",
   "execution_count": 1,
   "metadata": {},
   "outputs": [],
   "source": [
    "# needed imports\n",
    "import numpy as np\n",
    "import scipy.constants as sci_con\n",
    "import matplotlib.pyplot as plt\n",
    "import matplotlib\n",
    "import os, sys\n",
    "import dispersion as dis\n",
    "from scipy import interpolate\n",
    "from pathlib import Path\n",
    "import helper_functions as helper\n",
    "import vtk\n",
    "import vtk.util.numpy_support as vnp\n",
    "\n",
    "# matplotlib properties\n",
    "plt.rc(\"font\", family=\"sans-serif\", size=12)"
   ]
  },
  {
   "cell_type": "markdown",
   "metadata": {},
   "source": [
    "### Adjust Settings"
   ]
  },
  {
   "cell_type": "code",
   "execution_count": 2,
   "metadata": {},
   "outputs": [],
   "source": [
    "# define type of texture and hight\n",
    "texture = 'cos-'\n",
    "texture_height = 3 #adjust this value as needed\n",
    "\n",
    "# define settings for JCMsuite solver\n",
    "precision = 1e-9\n",
    "fem_degree = 3\n",
    "side_length = 0.5\n",
    "\n",
    "# insert path to the root directory of JCMsuite and import\n",
    "jcm_root = #insert root_dir"
   ]
  },
  {
   "cell_type": "code",
   "execution_count": null,
   "metadata": {},
   "outputs": [],
   "source": [
    "sys.path.append(os.path.join(jcm_root, 'ThirdPartySupport', 'Python'))\n",
    "import jcmwave as jcm\n"
   ]
  },
  {
   "cell_type": "markdown",
   "metadata": {},
   "source": [
    "### Define Relavant Paths here"
   ]
  },
  {
   "cell_type": "code",
   "execution_count": 3,
   "metadata": {},
   "outputs": [],
   "source": [
    "# insert path to the working dirs\n",
    "working_dir = Path.cwd().parent\n",
    "data_dir = os.path.join(working_dir, 'data', 'jcmsuite',f'H_T={texture_height}')\n",
    "results_dir = f'{working_dir}/results/H_T={texture_height}'\n",
    "\n",
    "for dir in [data_dir,results_dir]:\n",
    "    if not os.path.exists(dir):\n",
    "        os.makedirs(dir,exist_ok=True)"
   ]
  },
  {
   "cell_type": "markdown",
   "metadata": {},
   "source": [
    "## Data Setup"
   ]
  },
  {
   "cell_type": "code",
   "execution_count": 4,
   "metadata": {},
   "outputs": [],
   "source": [
    "# get AM1.5G spectrum\n",
    "spectrum, spec_irradiance = helper.get_spectrum('thin')\n",
    "\n",
    "spec_dist = spectrum[1:] - spectrum[:-1]\n",
    "spec_dist = np.append(spec_dist,spec_dist[-1])*1e9\n",
    "\n",
    "irradiance = spec_dist*spec_irradiance\n",
    "\n",
    "# set angles of incidence\n",
    "thetas = [0]"
   ]
  },
  {
   "cell_type": "code",
   "execution_count": 5,
   "metadata": {},
   "outputs": [],
   "source": [
    "# set width and thickness of each layer\n",
    "UNIT_OF_LENGTH = 1e-7\n",
    "width = 7.5\n",
    "glass_no_k_thickness = 1 #absorption free glass\n",
    "glass_thickness = 10\n",
    "ITO_thickness = 1.35\n",
    "PTAA_thickness = 0.1\n",
    "PVK_thickness = 4 - texture_height/2\n",
    "C60_thickness = 0.3\n",
    "Cu_thickness = 1\n",
    "\n",
    "\n",
    "# set heights from the ground up\n",
    "Cu_height = 0\n",
    "C60_height = Cu_height + Cu_thickness\n",
    "PVK_height = C60_height + C60_thickness\n",
    "PTAA_height = PVK_height + PVK_thickness\n",
    "ITO_height   = PTAA_height + PTAA_thickness\n",
    "glass_height = ITO_height + ITO_thickness\n",
    "total_height = glass_no_k_thickness + glass_thickness + glass_height\n",
    "\n",
    "# set non mutable keyset for JCMsuite\n",
    "jcm_keys ={\n",
    "    'width'          : width,\n",
    "    'glass_thickness': glass_thickness,\n",
    "    'ITO_thickness'  : ITO_thickness,\n",
    "    'PTAA_thickness' : PTAA_thickness,\n",
    "    'PVK_thickness'  : PVK_thickness,\n",
    "    'C_60_thickness' : C60_thickness,\n",
    "    'Cu_thickness'   : Cu_thickness,\n",
    "    'texture'        : texture,\n",
    "    'texture_height' : texture_height\n",
    "}"
   ]
  },
  {
   "cell_type": "code",
   "execution_count": 6,
   "metadata": {},
   "outputs": [],
   "source": [
    "# prepare material data\n",
    "\n",
    "# load Material Catalogue\n",
    "#cat = dis.Catalogue(rebuild='UserData')\n",
    "\n",
    "# path to materials\n",
    "material_path = os.path.join(working_dir, 'data')\n",
    "\n",
    "# get Materials\n",
    "#air      = dis.Material(file_path= material_path + '/Air.nk')\n",
    "glass_no_k = dis.Material(file_path= material_path + '/glass_no_k.nk')\n",
    "glass      = dis.Material(file_path= material_path + '/glass.nk')\n",
    "ITO        = dis.Material(file_path= material_path + '/ITO.nk')\n",
    "PTAA       = dis.Material(file_path= material_path + '/PTAA.nk')\n",
    "PVK        = dis.Material(file_path= material_path + '/PVK.nk')\n",
    "C_60       = dis.Material(file_path= material_path + '/C60.nk')\n",
    "Cu         = dis.Material(file_path= material_path + '/Cu.nk')\n",
    "\n",
    "# get permitivitys\n",
    "permi_air        = 1 #air.get_permittivity()\n",
    "permi_glass_no_k = glass_no_k.get_permittivity(spectrum)\n",
    "permi_glass      = glass.get_permittivity(spectrum)\n",
    "permi_ito \t\t = ITO.get_permittivity(spectrum)\n",
    "permi_PTAA       = PTAA.get_permittivity(spectrum)\n",
    "permi_PVK \t\t = PVK.get_permittivity(spectrum)\n",
    "permi_C_60 \t\t = C_60.get_permittivity(spectrum)\n",
    "permi_Cu \t\t = Cu.get_permittivity(spectrum)"
   ]
  },
  {
   "cell_type": "code",
   "execution_count": 7,
   "metadata": {},
   "outputs": [],
   "source": [
    "# glas Correction \n",
    "n_air  = np.real(permi_air)\n",
    "n_glas = np.real(permi_glass_no_k)\n",
    "\n",
    "R_0s = helper.fresnel_s(n_air, n_glas) \n",
    "R_0p = helper.fresnel_p(n_air, n_glas) "
   ]
  },
  {
   "cell_type": "code",
   "execution_count": 8,
   "metadata": {},
   "outputs": [],
   "source": [
    "# define verticies of computational domain\n",
    "points_cd = [0, 0, \n",
    "             width, 0, \n",
    "             width, total_height, \n",
    "             0, total_height]\n",
    "\n",
    "if texture in ['cos+','cos-']:\n",
    "    # define a sinusoidal profile\n",
    "    cos_n_periods = 1\n",
    "    cos_period = width\n",
    "    cos_amplitude = texture_height/2\n",
    "\n",
    "    if texture in ['cos-']:\n",
    "        cos_phase = np.pi\n",
    "    elif texture == 'cos+':\n",
    "        cos_phase = 0\n",
    "\n",
    "    n_points = int(np.ceil(cos_n_periods*cos_period))\n",
    "    x = np.linspace(0, width, n_points)\n",
    "    y = cos_amplitude*np.cos(cos_phase + 2*np.pi*x/cos_period) + cos_amplitude\n",
    "    # make sure to be periodic\n",
    "    assert y[0] == y[-1]\n",
    "    # smooth profile\n",
    "    xx = np.linspace(0, width, n_points*4)\n",
    "    cos_spline = interpolate.CubicSpline(x, y)\n",
    "    yy = cos_spline(xx)\n",
    "\n",
    "\n",
    "    # texturize layers\n",
    "    glass_points = np.zeros(2*len(xx) + 4)\n",
    "    glass_points[0:2*len(xx):2] = xx\n",
    "    glass_points[1:2*len(xx):2] = glass_height + yy\n",
    "    glass_points[-4:] = [width, total_height, \n",
    "                        0, total_height]\n",
    "\n",
    "    ITO_points = np.copy(glass_points)\n",
    "    ITO_points[1:2*len(xx):2] -= ITO_thickness\n",
    "\n",
    "    PTAA_points = np.copy(ITO_points)\n",
    "    PTAA_points[1:2*len(xx):2] -= PTAA_thickness\n",
    "\n",
    "# define vertices of PVK layer and below    \n",
    "PVK_points = np.array([0, PVK_height, \n",
    "                        width, PVK_height, \n",
    "                        width, total_height, \n",
    "                        0, total_height])"
   ]
  },
  {
   "cell_type": "code",
   "execution_count": 9,
   "metadata": {},
   "outputs": [],
   "source": [
    "# define the keysets for the parameter search\n",
    "\n",
    "scan1,scan2 = np.meshgrid(spectrum,thetas)\n",
    "dim1, dim2  = scan1.shape\n",
    "keyset = np.array([[{} for _ in range(dim2)] for _ in range(dim1)])\n",
    "\n",
    "for ii in np.ndindex(scan1.shape):\n",
    "\n",
    "    keyset[ii]                     = dict(jcm_keys)\n",
    "    keyset[ii]['wavelength']       = round(scan1[ii],10)\n",
    "    keyset[ii]['theta'] \t       = scan2[ii]\n",
    "    keyset[ii]['width']            = width\n",
    "    keyset[ii]['precision']        = precision\n",
    "    keyset[ii]['fem_degree']       = fem_degree\n",
    "    keyset[ii]['side_length']      = side_length\n",
    "    keyset[ii]['permi_glass_no_k'] = permi_glass_no_k[ii[1]]\n",
    "    keyset[ii]['permi_glass']  = permi_glass[ii[1]]\n",
    "    keyset[ii]['permi_ito']    = permi_ito[ii[1]]\n",
    "    keyset[ii]['permi_PTAA']   = permi_PTAA[ii[1]]\n",
    "    keyset[ii]['permi_PVK']    = permi_PVK[ii[1]]\n",
    "    keyset[ii]['permi_C60']    = permi_C_60[ii[1]]\n",
    "    keyset[ii]['permi_Cu']     = permi_Cu[ii[1]]\n",
    "    keyset[ii]['points_cd']    = points_cd\n",
    "    keyset[ii]['glass_points'] = glass_points\n",
    "    keyset[ii]['PTAA_points']  = PTAA_points\n",
    "    keyset[ii]['ITO_points']   = ITO_points\n",
    "    keyset[ii]['PVK_points']   = PVK_points"
   ]
  },
  {
   "cell_type": "code",
   "execution_count": 10,
   "metadata": {},
   "outputs": [
    {
     "name": "stderr",
     "output_type": "stream",
     "text": [
      "C:\\Users\\a4474\\AppData\\Local\\Temp\\ipykernel_11952\\3886529771.py:3: RuntimeWarning: No valid license found\n",
      "  jcm.geo(keys=keys, show=20)\n"
     ]
    }
   ],
   "source": [
    "# test the defined Geometry in JCMSuite\n",
    "keys = keyset[(0,0)]\n",
    "jcm.geo(keys=keys, show=20)"
   ]
  },
  {
   "cell_type": "markdown",
   "metadata": {},
   "source": [
    "### Adjust the following parameters to suite your jcm installation"
   ]
  },
  {
   "cell_type": "code",
   "execution_count": null,
   "metadata": {},
   "outputs": [],
   "source": [
    "# run JCMSuite for the defined setup on remote server\n",
    "# \n",
    "jcm.daemon.shutdown()\n",
    "jcm.daemon.add_queue(Hostname = #add_hostname,\n",
    "                    Login = #add username,\n",
    "                    JCMROOT = jcm_root,\n",
    "                    SSHClient = 'ssh -4',\n",
    "                    PartitionName = #add Partition Name,\n",
    "                    Multiplicity = 16,\n",
    "                    NThreads = 24,\n",
    "                    Time = 10 * 60.,\n",
    "                    WorkingDir = #add working_dir\n",
    "                    MemoryPerJob = 64. * 1000)\n",
    "\n",
    "job_ids = []\n",
    "\n",
    "for ii in np.ndindex(scan1.shape):\n",
    "    keys = keyset[ii]\n",
    "    current_dir = f'{data_dir}/{round(keys["wavelength"],10)}'\n",
    "    job_id = jcm.solve('project.jcmpt', working_dir = current_dir, keys=keys)\n",
    "    job_ids.append(job_id)\n",
    "\n",
    "jcm.daemon.wait(job_ids)"
   ]
  },
  {
   "cell_type": "markdown",
   "metadata": {},
   "source": [
    "# Post Processes\n"
   ]
  },
  {
   "cell_type": "markdown",
   "metadata": {},
   "source": [
    "### The following cells use the results computed above using JCMsuite to compute\n",
    "$J_{gen}$, $J_{R}$ and $J_{par}$"
   ]
  },
  {
   "cell_type": "code",
   "execution_count": null,
   "metadata": {},
   "outputs": [],
   "source": [
    "### Computation of Photogeneration\n",
    "## Initialize the arrays and objects by copying the size from a given file \n",
    "\n",
    "# Initalize the vtk reader\n",
    "reader = vtk.vtkXMLRectilinearGridReader()\n",
    "reader.SetFileName(f'{data_dir}/{round(spectrum[0],10)}/project_results/electric_field_absorption_density.vtr')\n",
    "reader.Update()\n",
    "# Read the vtk object\n",
    "InputGrid = reader.GetOutput()\n",
    "\n",
    "# Make a copy of the Object\n",
    "OutputGrid = vtk.vtkRectilinearGrid()\n",
    "OutputGrid.DeepCopy(InputGrid)\n",
    "# Remove the existing Data\n",
    "for i in range(4):\n",
    "    OutputGrid.GetPointData().RemoveArray(0)\n",
    "# Copy the shape of the Data\n",
    "photo_generation = np.zeros_like(vnp.vtk_to_numpy(InputGrid.GetPointData().GetArray('ElectromagneticFieldAbsorptionDensity_xyz_1_real')))\n",
    "photon_flux_density = np.zeros_like(photo_generation)\n",
    "\n",
    "# Get the Points of the underlying Grid ([[x1,y1,z1],[x2,y2,z2],...])\n",
    "Points = vtk.vtkPoints()\n",
    "OutputGrid.GetPoints(Points)\n",
    "points = vnp.vtk_to_numpy(Points.GetData())\n",
    "\n",
    "# Get Dimensions\n",
    "x_dim, y_dim, z_dim = OutputGrid.GetDimensions()"
   ]
  },
  {
   "cell_type": "code",
   "execution_count": null,
   "metadata": {},
   "outputs": [],
   "source": [
    "# Iterrate over all wavelengths\n",
    "reader_1 = vtk.vtkXMLRectilinearGridReader()\n",
    "reader_2 = vtk.vtkXMLRectilinearGridReader()\n",
    "\n",
    "for i, wavelength in enumerate(spectrum):\n",
    "    wavelength = round(wavelength,10)\n",
    "    if i%10 == 0:\n",
    "        print(f'Progress: {round(i/len(spectrum),2)}, Current WL: {wavelength}')\n",
    "\n",
    "    # Read the XML file of the current wavelength\n",
    "    reader_1.SetFileName(f'{data_dir}/{wavelength}/project_results/electric_field_absorption_density.vtr')\n",
    "    reader_1.Update()\n",
    "    EMFAD = reader_1.GetOutput()\n",
    "\n",
    "\n",
    "    # Get the point data of the p-polarized and s-polarized light\n",
    "    EMFAD_s = vnp.vtk_to_numpy(EMFAD.GetPointData().GetArray('ElectromagneticFieldAbsorptionDensity_xyz_1_real'))\n",
    "    EMFAD_p = vnp.vtk_to_numpy(EMFAD.GetPointData().GetArray('ElectromagneticFieldAbsorptionDensity_xyz_2_real'))\n",
    "\n",
    "    photo_generation += (EMFAD_s + EMFAD_p)/2 * irradiance[i] * wavelength/(sci_con.h * sci_con.c)\n",
    "\n",
    "# Convert Numpy Data to vtk\n",
    "PhotoGeneration = vnp.numpy_to_vtk(photo_generation)\n",
    "PhotoGeneration.SetName('Photogeneration')\n",
    "\n",
    "# Assign the Data to the OutputGrid\n",
    "OutputGrid.GetPointData().AddArray(PhotoGeneration)\n",
    "\n",
    "# Define and use the writer\n",
    "writer = vtk.vtkXMLRectilinearGridWriter()\n",
    "writer.SetInputData(OutputGrid)\n",
    "writer.SetFileName(f'{results_dir}/PhotonOutput_{texture}.vtr')\n",
    "writer.Write()\n",
    "\n",
    "# Save data as numpy files\n",
    "np.save(f'{results_dir}/Photogeneration', photo_generation.reshape((x_dim,y_dim,z_dim),order='F'))\n",
    "np.save(f'{results_dir}/X_Coords', np.sort(np.unique(points[:,0]*1e-6)))\n",
    "np.save(f'{results_dir}/Y_Coords', np.sort(np.unique(points[:,1]*1e-6)))"
   ]
  },
  {
   "cell_type": "code",
   "execution_count": null,
   "metadata": {},
   "outputs": [],
   "source": [
    "### Computation of Photo and Equvivalent Current Densities\n",
    "\n",
    "integrated_photo_generation = 0\n",
    "integrated_parasitic_loss = 0\n",
    "integrated_reflective_loss = 0 \n",
    "\n",
    "for i, wavelength in enumerate(spectrum):\n",
    "    wavelength = round(wavelength,10)\n",
    "\n",
    "    integrated_absorption_density = jcm.loadtable(f'{data_dir}/{wavelength}/project_results/integrated_absorption.jcm')['ElectromagneticFieldAbsorption']\n",
    "    integrated_photo_generation += (integrated_absorption_density[0] + integrated_absorption_density[1])/2 * irradiance[i] * wavelength/(sci_con.h * sci_con.c)\n",
    "\n",
    "    if wavelength <= 8e-7:\n",
    "        integrated_parasitic_absorption = jcm.loadtable(f'{data_dir}/{wavelength}/project_results/integrated_parasitic_absorption.jcm')['ElectromagneticFieldAbsorption']\n",
    "        integrated_parasitic_loss += (integrated_parasitic_absorption[0] + integrated_parasitic_absorption[1])/2 * irradiance[i] * wavelength/(sci_con.h * sci_con.c)\n",
    "\n",
    "    if wavelength <= 8e-7:\n",
    "        reflection_data = jcm.convert2powerflux(jcm.loadtable(f'{data_dir}/{wavelength}/project_results/reflection.jcm')) \n",
    "        integrated_reflective_loss += (np.abs(np.sum(reflection_data['PowerFluxDensity'][0][:,1])) + np.abs(np.sum(reflection_data['PowerFluxDensity'][1][:,1])))/2 * irradiance[i] * wavelength/(sci_con.h * sci_con.c)\n",
    "\n",
    "max_photo_current = integrated_photo_generation*sci_con.e/(width*UNIT_OF_LENGTH)\n",
    "max_photo_current /= 10 #mA + cm^-2         dived by 10 for correct units\n",
    "\n",
    "parsitic_equivalent_current = integrated_parasitic_loss*sci_con.e/(width*UNIT_OF_LENGTH*10)\n",
    "reflective_equivalent_current = integrated_reflective_loss*sci_con.e/10\n",
    "\n",
    "np.save(f'{results_dir}/J_gen', max_photo_current)\n",
    "np.save(f'{results_dir}/J_par', parsitic_equivalent_current)\n",
    "np.save(f'{results_dir}/J_R', reflective_equivalent_current)\n"
   ]
  },
  {
   "cell_type": "markdown",
   "metadata": {},
   "source": [
    "## Some Plots\n"
   ]
  },
  {
   "cell_type": "markdown",
   "metadata": {},
   "source": [
    "### Reflection, Parasitic Absorption and Absorption Plots"
   ]
  },
  {
   "cell_type": "code",
   "execution_count": null,
   "metadata": {},
   "outputs": [],
   "source": [
    "reflectance_scan = np.zeros_like(spectrum)\n",
    "parsitic_absorption_scan = np.copy(reflectance_scan)\n",
    "absorption_scan = np.zeros_like(spectrum)\n",
    "\n",
    "for i, wavelength in enumerate(spectrum):\n",
    "    wavelength = round(wavelength,10)\n",
    "    \n",
    "    reflection_data = jcm.convert2powerflux(jcm.loadtable(f'{data_dir}/{wavelength}/project_results/reflection.jcm'))\n",
    "    reflection = (np.abs(np.sum(reflection_data['PowerFluxDensity'][0][:,1])) + np.abs(np.sum(reflection_data['PowerFluxDensity'][1][:,1])))/2 *100\n",
    "    reflectance_scan[i] = reflection\n",
    "\n",
    "    integrated_parasitic_absorption = jcm.loadtable(f'{data_dir}/{wavelength}/project_results/integrated_parasitic_absorption.jcm')['ElectromagneticFieldAbsorption']\n",
    "    parsitic_absorption_scan[i] = np.sum((integrated_parasitic_absorption[0] + integrated_parasitic_absorption[1])/2) /(width*UNIT_OF_LENGTH)*100\n",
    "\n",
    "    integrated_absorption_density = jcm.loadtable(f'{data_dir}/{wavelength}/project_results/integrated_absorption.jcm')['ElectromagneticFieldAbsorption']\n",
    "    absorption_scan[i] = ((integrated_absorption_density[0] + integrated_absorption_density[1])/2 / (width*UNIT_OF_LENGTH)* 100)[0]\n",
    "\n",
    "max_error = round(np.amax(100 - reflectance_scan - parsitic_absorption_scan - absorption_scan),4)\n",
    "    \n",
    "\n",
    "fig, ax = plt.subplots()\n",
    "\n",
    "ax.fill_between(spectrum*1e9, 0, absorption_scan, color='#1a80bb', label='$A_{gen}$')\n",
    "ax.fill_between(spectrum*1e9, absorption_scan, absorption_scan + parsitic_absorption_scan ,color='#ea801c', label='A_{par}')\n",
    "ax.fill_between(spectrum*1e9, absorption_scan + parsitic_absorption_scan, absorption_scan + parsitic_absorption_scan + reflectance_scan,color='#b8b8b8', label='R')\n",
    "\n",
    "plt.title(f'$h_T =$ {texture_height*100} nm')\n",
    "plt.xlabel('Wavelength [nm]', fontsize =20)\n",
    "plt.ylabel('$A_{gen}$, $A_{par}$, R [%]', fontsize = 20)\n",
    "plt.legend(loc='lower left', )\n",
    "plt.tight_layout()\n",
    "\n",
    "plt.savefig(f'{results_dir}/AAR_{texture_height}.pdf')\n",
    "plt.show()"
   ]
  },
  {
   "cell_type": "markdown",
   "metadata": {},
   "source": [
    "### Photocurrent $J_{gen}$"
   ]
  },
  {
   "cell_type": "code",
   "execution_count": null,
   "metadata": {},
   "outputs": [],
   "source": [
    "from scipy.optimize import curve_fit\n",
    "def logifunc(x,A,x0,k,off):\n",
    "    return A / (1 + np.exp(-k*(x-x0))) + off\n",
    "\n",
    "def gaußian(x,a,b,c):\n",
    "    return a*np.exp(- (x-b)**2/(2*c**2))\n",
    "\n",
    "x = np.arange(0,8.0,0.5)\n",
    "y = []\n",
    "\n",
    "for dir in sorted(os.listdir(f'{working_dir}/results')):\n",
    "    if os.path.isdir(f'{working_dir}/results/{dir}'):\n",
    "        data = np.real(np.load(f'{working_dir}/results/{dir}/J_gen.npy'))[0]\n",
    "        y.append(data)\n",
    "\n",
    "popt, pcov = curve_fit(logifunc, x[:9], y[:9], p0=[23.5,2,2,21])\n",
    "sopt, scov = curve_fit(logifunc, x[7:13], y[7:13], p0=[2,2,2,23.5])\n",
    "x_data_1 = np.linspace(0,4,1000)\n",
    "x_data_2 = np.linspace(4,6,1000)\n",
    "\n",
    "# add logistic curve\n",
    "#plt.plot(x_data_1*100, logifunc(x_data_1, *popt), c='gray', alpha=0.4, label = f'Fitted Logistic Curve')\n",
    "#plt.plot(x_data_2*100, logifunc(x_data_2, *popt), c='gray', alpha=0.4, label = f'Logistic Extension',linestyle='--')\n",
    "plt.scatter(x*100, y, marker='o', c='#1a80bb')\n",
    "\n",
    "plt.ylabel('$J_{gen}$ [mA cm$^{-2}$]')\n",
    "plt.xlabel('Nanotexture height [nm]')\n",
    "\n",
    "plt.legend()\n",
    "plt.savefig(f'{working_dir}/results/J_gen.pdf')\n",
    "plt.show()"
   ]
  },
  {
   "cell_type": "markdown",
   "metadata": {},
   "source": [
    "### Parasitic Loss $J_{para}$"
   ]
  },
  {
   "cell_type": "code",
   "execution_count": null,
   "metadata": {},
   "outputs": [],
   "source": [
    "x = np.arange(0,8.0,0.5)\n",
    "y = np.empty((5,len(x)))\n",
    "\n",
    "layers = ['glass', 'ITO', 'PTAA', 'C$_{60}$', 'Cu']\n",
    "\n",
    "for i, dir in enumerate(sorted(os.listdir(f'{working_dir}/results'))):\n",
    "    if os.path.isdir(f'{working_dir}/results/{dir}'):\n",
    "        try:\n",
    "            data = np.real(np.load(f'{working_dir}/results/{dir}/J_par.npy'))\n",
    "        except:\n",
    "            data = [0,0,0,0,0]\n",
    "        y[:,i] = data\n",
    "\n",
    "for j in range(len(layers)):\n",
    "    plt.scatter(x*100, y[j,:], marker='o', label=layers[j])\n",
    "\n",
    "plt.legend(loc='upper left')\n",
    "plt.title('Parasitic Losses')\n",
    "plt.ylabel('$J_{par}$ [mA cm$^{-2}$]')\n",
    "plt.xlabel('Nanotexture height [nm]')\n",
    "\n",
    "plt.savefig(f'{working_dir}/results/J_par.pdf')\n",
    "plt.show()"
   ]
  },
  {
   "cell_type": "markdown",
   "metadata": {},
   "source": [
    "#### Reflectiv Loss $J_{R}$"
   ]
  },
  {
   "cell_type": "code",
   "execution_count": null,
   "metadata": {},
   "outputs": [],
   "source": [
    "x = np.arange(0,8.0,0.5)\n",
    "y = []\n",
    "\n",
    "for dir in sorted(os.listdir(f'{working_dir}/results')):\n",
    "    if os.path.isdir(f'{working_dir}/results/{dir}'):\n",
    "        try:\n",
    "            data = np.real(np.load(f'{working_dir}/results/{dir}/J_R.npy'))\n",
    "        except:\n",
    "            data = 0\n",
    "        y.append(data)\n",
    "\n",
    "plt.scatter(x*100, y, marker='o', c='#b8b8b8')\n",
    "\n",
    "plt.title('Reflective Losses')\n",
    "plt.ylabel('$J_R$ [mA cm$^{-2}$]')\n",
    "plt.xlabel('Nanotexture height [nm]')\n",
    "\n",
    "plt.savefig(f'{working_dir}/results/J_R.pdf')\n",
    "plt.show()"
   ]
  },
  {
   "cell_type": "markdown",
   "metadata": {},
   "source": [
    "## Some 1D Test Plots"
   ]
  },
  {
   "cell_type": "code",
   "execution_count": null,
   "metadata": {},
   "outputs": [],
   "source": [
    "photo_generation = np.load(f'{results_dir}/Photogeneration.npy')\n",
    "photon_flux_density = np.load(f'{results_dir}/Photon_Flux.npy')"
   ]
  },
  {
   "cell_type": "code",
   "execution_count": null,
   "metadata": {},
   "outputs": [],
   "source": [
    "# create 1D Images of photogeneration\n",
    "materials = np.array(['glass_no_k','glass','ITO','PTAA','PVK','C_60','Cu'])\n",
    "slice_index = photo_generation.shape[0]//2\n",
    "\n",
    "# compute physical position from slice index\n",
    "cutoff = slice_index*width/photo_generation.shape[0]\n",
    "\n",
    "if texture in ['cos+','cos-']:\n",
    "    cutoff_height = cos_spline(cutoff)\n",
    "else:\n",
    "    cutoff_height = 0\n",
    "\n",
    "material_dims = np.array([total_height,\n",
    "                            total_height - glass_no_k_thickness,\n",
    "                            glass_height + cutoff_height,\n",
    "                            ITO_height  + cutoff_height,\n",
    "                            PTAA_height + cutoff_height,\n",
    "                            PVK_height,\n",
    "                            C60_height,\n",
    "                            Cu_height])\n",
    "material_dims = (total_height - material_dims)*UNIT_OF_LENGTH\n",
    "points = np.linspace(0,total_height,photo_generation.shape[1],endpoint = True)*UNIT_OF_LENGTH\n",
    "\n",
    "\n",
    "# Photogeneration\n",
    "fig, ax = plt.subplots()\n",
    "ax.plot(np.unique(points)*1e9,np.flip(photo_generation[slice_index,:,0]),c='k')\n",
    "y_transform = ax.get_xaxis_transform()\n",
    "cmap = matplotlib.colormaps['Set3']\n",
    "for c, material_bound in enumerate(material_dims[1:]):\n",
    "    ax.axvspan(material_dims[c]*1e9,material_bound*1e9,alpha=0.15,color=cmap.colors[c])\n",
    "    plt.text((material_dims[c+1] + material_dims[c])*0.5*1e9,.5, materials[c], transform=y_transform, rotation = 90, ha='center',va='center',alpha=0.4)\n",
    "\n",
    "plt.title(f'Photogeneration ({texture}) at x = {round(cutoff*100)}nm')\n",
    "plt.xlabel('Depth [nm]')\n",
    "plt.ylabel('Photogeneration [m$^{-3}$ s$^{-1}$]')\n",
    "plt.savefig(f'{results_dir}/Photogeneration_{texture}_th{texture_height}_{cutoff}.pdf')\n",
    "plt.show()\n",
    "\n",
    "\n",
    "# Photon Flux Density\n",
    "fig, ax = plt.subplots()\n",
    "ax.plot(np.unique(points)*1e9,np.flip(photon_flux_density[slice_index,:,0]),c='k')\n",
    "y_transform = ax.get_xaxis_transform()\n",
    "cmap = matplotlib.colormaps['Set3']\n",
    "for c, material_bound in enumerate(material_dims[1:]):\n",
    "    ax.axvspan(material_dims[c]*1e9,material_bound*1e9,alpha=0.15,color=cmap.colors[c],label='test')\n",
    "    plt.text((material_dims[c+1] + material_dims[c])*0.5*1e9,.5, materials[c], transform=y_transform, rotation = 90, ha='center',va='center',alpha=0.4)\n",
    "\n",
    "\n",
    "plt.title(f'Photon Flux Density ({texture}) at x = {round(cutoff*100)}nm')\n",
    "plt.xlabel('Depth [nm]')\n",
    "plt.ylabel('Photon Flux Density [m$^{-2}$ s$^{-1}$]')\n",
    "\n",
    "plt.savefig(f'{results_dir}/Photon_Flux_Density_{texture}_th{texture_height}_{cutoff}.pdf')\n",
    "plt.show()\n",
    "\n"
   ]
  },
  {
   "cell_type": "markdown",
   "metadata": {},
   "source": [
    "### Finding Maxima"
   ]
  },
  {
   "cell_type": "code",
   "execution_count": null,
   "metadata": {},
   "outputs": [],
   "source": [
    "# define type of texture and working dirs\n",
    "\n",
    "texture = 'cos-'\n",
    "\n",
    "# working dirs\n",
    "DIMENSION = 2\n",
    "SETUP_ID = 2\n",
    "working_dir = f'D:/WIAS/{DIMENSION}D/#{SETUP_ID}/{texture}'\n",
    "\n",
    "max_flux = 0\n",
    "max_generation = 0\n",
    "\n",
    "for texture_height in [0,0.5,1,1.5,2,2.5,3,3.5,4,4.5,5,5.5,6,6.5,7,7.5,8]:\n",
    "    results_dir = f'{working_dir}/results/th_{texture_height}'\n",
    "\n",
    "    photo_generation = np.load(f'{results_dir}/Photogeneration_{texture}.npy')\n",
    "    photon_flux_density = np.load(f'{results_dir}/Photon_Flux_{texture}.npy')\n",
    "\n",
    "    if np.amax(photo_generation) > max_generation:\n",
    "        max_generation = np.amax(photo_generation)\n",
    "\n",
    "    if np.amax(photon_flux_density) > max_flux:\n",
    "        max_flux = np.amax(photon_flux_density)\n",
    "\n",
    "print(max_generation)\n",
    "print(max_flux)"
   ]
  }
 ],
 "metadata": {
  "kernelspec": {
   "display_name": "base",
   "language": "python",
   "name": "python3"
  },
  "language_info": {
   "codemirror_mode": {
    "name": "ipython",
    "version": 3
   },
   "file_extension": ".py",
   "mimetype": "text/x-python",
   "name": "python",
   "nbconvert_exporter": "python",
   "pygments_lexer": "ipython3",
   "version": "3.11.13"
  }
 },
 "nbformat": 4,
 "nbformat_minor": 2
}
